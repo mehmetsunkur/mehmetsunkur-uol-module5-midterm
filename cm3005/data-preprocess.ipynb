{
 "cells": [
  {
   "cell_type": "markdown",
   "metadata": {},
   "source": [
    "# Data Preprocessing for Spotify and YouTube Music Analysis\n",
    "\n",
    "This notebook performs preprocessing on two datasets:\n",
    "1. Spotify-YouTube Dataset\n",
    "2. Most Streamed Spotify Songs 2024\n",
    "\n",
    "The preprocessing steps include:\n",
    "- Loading and examining datasets\n",
    "- Cleaning and standardizing data\n",
    "- Handling duplicates\n",
    "- Combining datasets"
   ]
  },
  {
   "cell_type": "markdown",
   "metadata": {},
   "source": [
    "## Import Required Libraries"
   ]
  },
  {
   "cell_type": "code",
   "execution_count": 1,
   "metadata": {
    "execution": {
     "iopub.execute_input": "2025-01-04T01:58:17.973947Z",
     "iopub.status.busy": "2025-01-04T01:58:17.973302Z",
     "iopub.status.idle": "2025-01-04T01:58:18.479517Z",
     "shell.execute_reply": "2025-01-04T01:58:18.477848Z"
    }
   },
   "outputs": [],
   "source": [
    "import pandas as pd\n",
    "import numpy as np\n",
    "from datetime import datetime"
   ]
  },
  {
   "cell_type": "markdown",
   "metadata": {},
   "source": [
    "## Define Helper Functions"
   ]
  },
  {
   "cell_type": "code",
   "execution_count": 2,
   "metadata": {
    "execution": {
     "iopub.execute_input": "2025-01-04T01:58:18.487114Z",
     "iopub.status.busy": "2025-01-04T01:58:18.486647Z",
     "iopub.status.idle": "2025-01-04T01:58:18.496385Z",
     "shell.execute_reply": "2025-01-04T01:58:18.494426Z"
    }
   },
   "outputs": [],
   "source": [
    "def normalize_column_names(df):\n",
    "    \"\"\"\n",
    "    Normalize column names to snake_case format\n",
    "    \"\"\"\n",
    "    return df.rename(columns=lambda x: x.lower().replace(' ', '_'))\n",
    "\n",
    "def clean_text_data(text):\n",
    "    \"\"\"\n",
    "    Clean text data by removing special characters and standardizing format\n",
    "    \"\"\"\n",
    "    if pd.isna(text):\n",
    "        return text\n",
    "    # Remove special characters and extra spaces\n",
    "    cleaned = str(text).strip().lower()\n",
    "    # Replace multiple spaces with single space\n",
    "    cleaned = ' '.join(cleaned.split())\n",
    "    return cleaned"
   ]
  },
  {
   "cell_type": "markdown",
   "metadata": {},
   "source": [
    "## Load and Examine Datasets"
   ]
  },
  {
   "cell_type": "code",
   "execution_count": 3,
   "metadata": {
    "execution": {
     "iopub.execute_input": "2025-01-04T01:58:18.504516Z",
     "iopub.status.busy": "2025-01-04T01:58:18.504005Z",
     "iopub.status.idle": "2025-01-04T01:58:19.090375Z",
     "shell.execute_reply": "2025-01-04T01:58:19.087980Z"
    }
   },
   "outputs": [
    {
     "name": "stdout",
     "output_type": "stream",
     "text": [
      "Spotify YouTube Dataset Info:\n",
      "<class 'pandas.core.frame.DataFrame'>\n",
      "RangeIndex: 20718 entries, 0 to 20717\n",
      "Data columns (total 28 columns):\n",
      " #   Column            Non-Null Count  Dtype  \n",
      "---  ------            --------------  -----  \n",
      " 0   Id                20718 non-null  int64  \n",
      " 1   Artist            20718 non-null  object \n",
      " 2   Url_spotify       20718 non-null  object \n",
      " 3   Track             20718 non-null  object \n",
      " 4   Album             20718 non-null  object \n",
      " 5   Album_type        20718 non-null  object \n",
      " 6   Uri               20718 non-null  object \n",
      " 7   Danceability      20716 non-null  float64\n",
      " 8   Energy            20716 non-null  float64\n",
      " 9   Key               20716 non-null  float64\n",
      " 10  Loudness          20716 non-null  float64\n",
      " 11  Speechiness       20716 non-null  float64\n",
      " 12  Acousticness      20716 non-null  float64\n",
      " 13  Instrumentalness  20716 non-null  float64\n",
      " 14  Liveness          20716 non-null  float64\n",
      " 15  Valence           20716 non-null  float64\n",
      " 16  Tempo             20716 non-null  float64\n",
      " 17  Duration_ms       20716 non-null  float64\n",
      " 18  Url_youtube       20248 non-null  object \n",
      " 19  Title             20248 non-null  object \n",
      " 20  Channel           20248 non-null  object \n",
      " 21  Views             20248 non-null  float64\n",
      " 22  Likes             20177 non-null  float64\n",
      " 23  Comments          20149 non-null  float64\n",
      " 24  Description       19842 non-null  object \n",
      " 25  Licensed          20248 non-null  object \n",
      " 26  official_video    20248 non-null  object \n",
      " 27  Stream            20142 non-null  float64\n",
      "dtypes: float64(15), int64(1), object(12)\n",
      "memory usage: 4.4+ MB\n",
      "None\n",
      "\n",
      "Missing values in Spotify YouTube Dataset:\n",
      "Id                    0\n",
      "Artist                0\n",
      "Url_spotify           0\n",
      "Track                 0\n",
      "Album                 0\n",
      "Album_type            0\n",
      "Uri                   0\n",
      "Danceability          2\n",
      "Energy                2\n",
      "Key                   2\n",
      "Loudness              2\n",
      "Speechiness           2\n",
      "Acousticness          2\n",
      "Instrumentalness      2\n",
      "Liveness              2\n",
      "Valence               2\n",
      "Tempo                 2\n",
      "Duration_ms           2\n",
      "Url_youtube         470\n",
      "Title               470\n",
      "Channel             470\n",
      "Views               470\n",
      "Likes               541\n",
      "Comments            569\n",
      "Description         876\n",
      "Licensed            470\n",
      "official_video      470\n",
      "Stream              576\n",
      "dtype: int64\n",
      "\n",
      "Spotify 2024 Dataset Info:\n",
      "<class 'pandas.core.frame.DataFrame'>\n",
      "RangeIndex: 4600 entries, 0 to 4599\n",
      "Data columns (total 29 columns):\n",
      " #   Column                      Non-Null Count  Dtype  \n",
      "---  ------                      --------------  -----  \n",
      " 0   Track                       4600 non-null   object \n",
      " 1   Album Name                  4600 non-null   object \n",
      " 2   Artist                      4595 non-null   object \n",
      " 3   Release Date                4600 non-null   object \n",
      " 4   ISRC                        4600 non-null   object \n",
      " 5   All Time Rank               4600 non-null   object \n",
      " 6   Track Score                 4600 non-null   float64\n",
      " 7   Spotify Streams             4487 non-null   object \n",
      " 8   Spotify Playlist Count      4530 non-null   object \n",
      " 9   Spotify Playlist Reach      4528 non-null   object \n",
      " 10  Spotify Popularity          3796 non-null   float64\n",
      " 11  YouTube Views               4292 non-null   object \n",
      " 12  YouTube Likes               4285 non-null   object \n",
      " 13  TikTok Posts                3427 non-null   object \n",
      " 14  TikTok Likes                3620 non-null   object \n",
      " 15  TikTok Views                3619 non-null   object \n",
      " 16  YouTube Playlist Reach      3591 non-null   object \n",
      " 17  Apple Music Playlist Count  4039 non-null   float64\n",
      " 18  AirPlay Spins               4102 non-null   object \n",
      " 19  SiriusXM Spins              2477 non-null   object \n",
      " 20  Deezer Playlist Count       3679 non-null   float64\n",
      " 21  Deezer Playlist Reach       3672 non-null   object \n",
      " 22  Amazon Playlist Count       3545 non-null   float64\n",
      " 23  Pandora Streams             3494 non-null   object \n",
      " 24  Pandora Track Stations      3332 non-null   object \n",
      " 25  Soundcloud Streams          1267 non-null   object \n",
      " 26  Shazam Counts               4023 non-null   object \n",
      " 27  TIDAL Popularity            0 non-null      float64\n",
      " 28  Explicit Track              4600 non-null   int64  \n",
      "dtypes: float64(6), int64(1), object(22)\n",
      "memory usage: 1.0+ MB\n",
      "None\n",
      "\n",
      "Missing values in Spotify 2024 Dataset:\n",
      "Track                            0\n",
      "Album Name                       0\n",
      "Artist                           5\n",
      "Release Date                     0\n",
      "ISRC                             0\n",
      "All Time Rank                    0\n",
      "Track Score                      0\n",
      "Spotify Streams                113\n",
      "Spotify Playlist Count          70\n",
      "Spotify Playlist Reach          72\n",
      "Spotify Popularity             804\n",
      "YouTube Views                  308\n",
      "YouTube Likes                  315\n",
      "TikTok Posts                  1173\n",
      "TikTok Likes                   980\n",
      "TikTok Views                   981\n",
      "YouTube Playlist Reach        1009\n",
      "Apple Music Playlist Count     561\n",
      "AirPlay Spins                  498\n",
      "SiriusXM Spins                2123\n",
      "Deezer Playlist Count          921\n",
      "Deezer Playlist Reach          928\n",
      "Amazon Playlist Count         1055\n",
      "Pandora Streams               1106\n",
      "Pandora Track Stations        1268\n",
      "Soundcloud Streams            3333\n",
      "Shazam Counts                  577\n",
      "TIDAL Popularity              4600\n",
      "Explicit Track                   0\n",
      "dtype: int64\n"
     ]
    }
   ],
   "source": [
    "# Load datasets with encoding handling\n",
    "spotify_youtube = pd.read_csv('data/raw/Spotify_Youtube.csv', encoding='latin1')\n",
    "spotify_2024 = pd.read_csv('data/raw/Most Streamed Spotify Songs 2024.csv', encoding='latin1')\n",
    "\n",
    "print(\"Spotify YouTube Dataset Info:\")\n",
    "print(spotify_youtube.info())\n",
    "print(\"\\nMissing values in Spotify YouTube Dataset:\")\n",
    "print(spotify_youtube.isnull().sum())\n",
    "\n",
    "print(\"\\nSpotify 2024 Dataset Info:\")\n",
    "print(spotify_2024.info())\n",
    "print(\"\\nMissing values in Spotify 2024 Dataset:\")\n",
    "print(spotify_2024.isnull().sum())"
   ]
  },
  {
   "cell_type": "markdown",
   "metadata": {},
   "source": [
    "## Preprocess Spotify YouTube Dataset"
   ]
  },
  {
   "cell_type": "code",
   "execution_count": 4,
   "metadata": {
    "execution": {
     "iopub.execute_input": "2025-01-04T01:58:19.132525Z",
     "iopub.status.busy": "2025-01-04T01:58:19.131872Z",
     "iopub.status.idle": "2025-01-04T01:58:19.266343Z",
     "shell.execute_reply": "2025-01-04T01:58:19.264033Z"
    }
   },
   "outputs": [
    {
     "name": "stdout",
     "output_type": "stream",
     "text": [
      "Preprocessed Spotify YouTube Dataset Info:\n",
      "<class 'pandas.core.frame.DataFrame'>\n",
      "RangeIndex: 20718 entries, 0 to 20717\n",
      "Data columns (total 18 columns):\n",
      " #   Column            Non-Null Count  Dtype  \n",
      "---  ------            --------------  -----  \n",
      " 0   track             20718 non-null  object \n",
      " 1   artist            20718 non-null  object \n",
      " 2   album             20718 non-null  object \n",
      " 3   danceability      20716 non-null  float64\n",
      " 4   energy            20716 non-null  float64\n",
      " 5   key               20716 non-null  float64\n",
      " 6   loudness          20716 non-null  float64\n",
      " 7   speechiness       20716 non-null  float64\n",
      " 8   acousticness      20716 non-null  float64\n",
      " 9   instrumentalness  20716 non-null  float64\n",
      " 10  liveness          20716 non-null  float64\n",
      " 11  valence           20716 non-null  float64\n",
      " 12  tempo             20716 non-null  float64\n",
      " 13  duration_sec      20716 non-null  float64\n",
      " 14  stream            20142 non-null  float64\n",
      " 15  views             20248 non-null  float64\n",
      " 16  likes             20177 non-null  float64\n",
      " 17  comments          20149 non-null  float64\n",
      "dtypes: float64(15), object(3)\n",
      "memory usage: 2.8+ MB\n",
      "None\n"
     ]
    }
   ],
   "source": [
    "def preprocess_spotify_youtube(df):\n",
    "    \"\"\"\n",
    "    Preprocess Spotify YouTube dataset\n",
    "    \"\"\"\n",
    "    # Normalize column names\n",
    "    df = normalize_column_names(df)\n",
    "    \n",
    "    # Clean text columns\n",
    "    text_columns = ['track', 'artist', 'album']\n",
    "    for col in text_columns:\n",
    "        df[col] = df[col].apply(clean_text_data)\n",
    "    \n",
    "    # Convert duration from ms to seconds\n",
    "    df['duration_sec'] = df['duration_ms'] / 1000\n",
    "    \n",
    "    # Convert stream count to numeric, handling any non-numeric values\n",
    "    df['stream'] = pd.to_numeric(df['stream'], errors='coerce')\n",
    "    \n",
    "    # Select relevant columns\n",
    "    relevant_columns = [\n",
    "        'track', 'artist', 'album', 'danceability', 'energy', 'key',\n",
    "        'loudness', 'speechiness', 'acousticness', 'instrumentalness',\n",
    "        'liveness', 'valence', 'tempo', 'duration_sec', 'stream',\n",
    "        'views', 'likes', 'comments'\n",
    "    ]\n",
    "    \n",
    "    return df[relevant_columns]\n",
    "\n",
    "spotify_youtube_clean = preprocess_spotify_youtube(spotify_youtube)\n",
    "print(\"Preprocessed Spotify YouTube Dataset Info:\")\n",
    "print(spotify_youtube_clean.info())"
   ]
  },
  {
   "cell_type": "markdown",
   "metadata": {},
   "source": [
    "## Preprocess Spotify 2024 Dataset"
   ]
  },
  {
   "cell_type": "code",
   "execution_count": 5,
   "metadata": {
    "execution": {
     "iopub.execute_input": "2025-01-04T01:58:19.273979Z",
     "iopub.status.busy": "2025-01-04T01:58:19.273492Z",
     "iopub.status.idle": "2025-01-04T01:58:19.381386Z",
     "shell.execute_reply": "2025-01-04T01:58:19.379593Z"
    }
   },
   "outputs": [
    {
     "name": "stdout",
     "output_type": "stream",
     "text": [
      "Preprocessed Spotify 2024 Dataset Info:\n",
      "<class 'pandas.core.frame.DataFrame'>\n",
      "RangeIndex: 4600 entries, 0 to 4599\n",
      "Data columns (total 10 columns):\n",
      " #   Column        Non-Null Count  Dtype         \n",
      "---  ------        --------------  -----         \n",
      " 0   track         4600 non-null   object        \n",
      " 1   artist        4595 non-null   object        \n",
      " 2   album         4600 non-null   object        \n",
      " 3   release_date  4600 non-null   datetime64[ns]\n",
      " 4   stream        4487 non-null   float64       \n",
      " 5   views         4292 non-null   float64       \n",
      " 6   likes         4285 non-null   float64       \n",
      " 7   tiktok_posts  3427 non-null   float64       \n",
      " 8   tiktok_likes  3620 non-null   float64       \n",
      " 9   tiktok_views  3619 non-null   float64       \n",
      "dtypes: datetime64[ns](1), float64(6), object(3)\n",
      "memory usage: 359.5+ KB\n",
      "None\n"
     ]
    }
   ],
   "source": [
    "def preprocess_spotify_2024(df):\n",
    "    \"\"\"\n",
    "    Preprocess Spotify 2024 dataset\n",
    "    \"\"\"\n",
    "    # First normalize all column names to lowercase with underscores\n",
    "    df = normalize_column_names(df)\n",
    "    \n",
    "    # Clean text columns\n",
    "    text_columns = ['track', 'artist', 'album_name']\n",
    "    for col in text_columns:\n",
    "        df[col] = df[col].apply(clean_text_data)\n",
    "    \n",
    "    # Convert release_date to datetime\n",
    "    df['release_date'] = pd.to_datetime(df['release_date'], errors='coerce')\n",
    "    \n",
    "    # Convert numeric columns to appropriate types\n",
    "    numeric_columns = ['spotify_streams', 'youtube_views', 'youtube_likes', \n",
    "                      'tiktok_posts', 'tiktok_likes', 'tiktok_views']\n",
    "    for col in numeric_columns:\n",
    "        df[col] = pd.to_numeric(df[col].str.replace(',', ''), errors='coerce')\n",
    "    \n",
    "    # Rename columns for consistency with the other dataset\n",
    "    df = df.rename(columns={\n",
    "        'album_name': 'album',\n",
    "        'spotify_streams': 'stream',\n",
    "        'youtube_views': 'views',\n",
    "        'youtube_likes': 'likes'\n",
    "    })\n",
    "    \n",
    "    # Select relevant columns\n",
    "    relevant_columns = [\n",
    "        'track', 'artist', 'album', 'release_date', 'stream',\n",
    "        'views', 'likes', 'tiktok_posts', 'tiktok_likes', 'tiktok_views'\n",
    "    ]\n",
    "    \n",
    "    return df[relevant_columns]\n",
    "\n",
    "spotify_2024_clean = preprocess_spotify_2024(spotify_2024)\n",
    "print(\"Preprocessed Spotify 2024 Dataset Info:\")\n",
    "print(spotify_2024_clean.info())"
   ]
  },
  {
   "cell_type": "markdown",
   "metadata": {},
   "source": [
    "## Handle Duplicates"
   ]
  },
  {
   "cell_type": "code",
   "execution_count": 6,
   "metadata": {
    "execution": {
     "iopub.execute_input": "2025-01-04T01:58:19.388784Z",
     "iopub.status.busy": "2025-01-04T01:58:19.388324Z",
     "iopub.status.idle": "2025-01-04T01:58:19.423505Z",
     "shell.execute_reply": "2025-01-04T01:58:19.421064Z"
    }
   },
   "outputs": [
    {
     "name": "stdout",
     "output_type": "stream",
     "text": [
      "\n",
      "Number of duplicate songs found: 1303\n",
      "\n",
      "Sample of duplicate songs:\n",
      "- flowers by miley cyrus\n",
      "- old town road - remix by lil nas x\n",
      "- solo me dejaste by grupo marca registrada\n",
      "- el rescate by grupo marca registrada\n",
      "- bones by imagine dragons\n"
     ]
    }
   ],
   "source": [
    "def identify_duplicates(df1, df2):\n",
    "    \"\"\"\n",
    "    Identify duplicate songs between datasets based on track and artist\n",
    "    \"\"\"\n",
    "    # Create a composite key for comparison\n",
    "    df1['composite_key'] = df1['track'] + '|' + df1['artist']\n",
    "    df2['composite_key'] = df2['track'] + '|' + df2['artist']\n",
    "    \n",
    "    # Find duplicates\n",
    "    duplicates = set(df1['composite_key']).intersection(set(df2['composite_key']))\n",
    "    \n",
    "    print(f\"\\nNumber of duplicate songs found: {len(duplicates)}\")\n",
    "    if len(duplicates) > 0:\n",
    "        print(\"\\nSample of duplicate songs:\")\n",
    "        for key in list(duplicates)[:5]:\n",
    "            print(f\"- {key.replace('|', ' by ')}\")\n",
    "    \n",
    "    return duplicates\n",
    "\n",
    "duplicates = identify_duplicates(spotify_youtube_clean, spotify_2024_clean)"
   ]
  },
  {
   "cell_type": "markdown",
   "metadata": {},
   "source": [
    "## Combine Datasets"
   ]
  },
  {
   "cell_type": "code",
   "execution_count": 7,
   "metadata": {
    "execution": {
     "iopub.execute_input": "2025-01-04T01:58:19.431933Z",
     "iopub.status.busy": "2025-01-04T01:58:19.431313Z",
     "iopub.status.idle": "2025-01-04T01:58:19.524410Z",
     "shell.execute_reply": "2025-01-04T01:58:19.522072Z"
    }
   },
   "outputs": [
    {
     "name": "stdout",
     "output_type": "stream",
     "text": [
      "\n",
      "Combined Dataset Info:\n",
      "<class 'pandas.core.frame.DataFrame'>\n",
      "RangeIndex: 24012 entries, 0 to 24011\n",
      "Data columns (total 22 columns):\n",
      " #   Column            Non-Null Count  Dtype         \n",
      "---  ------            --------------  -----         \n",
      " 0   track             24012 non-null  object        \n",
      " 1   artist            24007 non-null  object        \n",
      " 2   album             24012 non-null  object        \n",
      " 3   danceability      19410 non-null  float64       \n",
      " 4   energy            19410 non-null  float64       \n",
      " 5   key               19410 non-null  float64       \n",
      " 6   loudness          19410 non-null  float64       \n",
      " 7   speechiness       19410 non-null  float64       \n",
      " 8   acousticness      19410 non-null  float64       \n",
      " 9   instrumentalness  19410 non-null  float64       \n",
      " 10  liveness          19410 non-null  float64       \n",
      " 11  valence           19410 non-null  float64       \n",
      " 12  tempo             19410 non-null  float64       \n",
      " 13  duration_sec      19410 non-null  float64       \n",
      " 14  stream            23336 non-null  float64       \n",
      " 15  views             23240 non-null  float64       \n",
      " 16  likes             23164 non-null  float64       \n",
      " 17  comments          18853 non-null  float64       \n",
      " 18  tiktok_views      3619 non-null   float64       \n",
      " 19  tiktok_posts      3427 non-null   float64       \n",
      " 20  release_date      4600 non-null   datetime64[ns]\n",
      " 21  tiktok_likes      3620 non-null   float64       \n",
      "dtypes: datetime64[ns](1), float64(18), object(3)\n",
      "memory usage: 4.0+ MB\n",
      "None\n",
      "\n",
      "Sample of combined dataset:\n",
      "                                               track    artist  \\\n",
      "0                                    rhinestone eyes  gorillaz   \n",
      "1                                 on melancholy hill  gorillaz   \n",
      "2                                     clint eastwood  gorillaz   \n",
      "3                                               dare  gorillaz   \n",
      "4  new gold (feat. tame impala and bootie brown) ...  gorillaz   \n",
      "\n",
      "                                               album  danceability  energy  \\\n",
      "0                                      plastic beach         0.676   0.703   \n",
      "1                                      plastic beach         0.689   0.739   \n",
      "2                                           gorillaz         0.663   0.694   \n",
      "3                                         demon days         0.760   0.891   \n",
      "4  new gold (feat. tame impala and bootie brown) ...         0.716   0.897   \n",
      "\n",
      "    key  loudness  speechiness  acousticness  instrumentalness  ...    tempo  \\\n",
      "0   8.0    -5.815       0.0302      0.086900          0.000687  ...   92.761   \n",
      "1   2.0    -5.810       0.0260      0.000015          0.509000  ...  120.423   \n",
      "2  10.0    -8.627       0.1710      0.025300          0.000000  ...  167.953   \n",
      "3  11.0    -5.852       0.0372      0.022900          0.086900  ...  120.264   \n",
      "4   4.0    -7.185       0.0629      0.012000          0.262000  ...  127.030   \n",
      "\n",
      "   duration_sec       stream        views      likes  comments  tiktok_views  \\\n",
      "0       200.173  310083733.0   72011645.0  1079128.0   31003.0           NaN   \n",
      "1       233.867  434663559.0  211754952.0  1788577.0   55229.0           NaN   \n",
      "2       340.920  617259738.0  618480958.0  6197318.0  155930.0           NaN   \n",
      "3       245.000  323850327.0  259021161.0  1844658.0   72008.0           NaN   \n",
      "4       274.142   10666154.0     451996.0    11686.0     241.0           NaN   \n",
      "\n",
      "   tiktok_posts  release_date  tiktok_likes  \n",
      "0           NaN           NaT           NaN  \n",
      "1           NaN           NaT           NaN  \n",
      "2           NaN           NaT           NaN  \n",
      "3           NaN           NaT           NaN  \n",
      "4           NaN           NaT           NaN  \n",
      "\n",
      "[5 rows x 22 columns]\n"
     ]
    },
    {
     "name": "stderr",
     "output_type": "stream",
     "text": [
      "/tmp/ipykernel_25961/548717274.py:22: FutureWarning: The behavior of DataFrame concatenation with empty or all-NA entries is deprecated. In a future version, this will no longer exclude empty or all-NA columns when determining the result dtypes. To retain the old behavior, exclude the relevant entries before the concat operation.\n",
      "  combined_df = pd.concat([spotify_youtube_clean, spotify_2024_clean], ignore_index=True)\n"
     ]
    }
   ],
   "source": [
    "# Remove composite key used for duplicate detection\n",
    "spotify_youtube_clean = spotify_youtube_clean.drop('composite_key', axis=1)\n",
    "spotify_2024_clean = spotify_2024_clean.drop('composite_key', axis=1)\n",
    "\n",
    "# For duplicate songs, prefer the newer 2024 dataset\n",
    "spotify_youtube_clean = spotify_youtube_clean[\n",
    "    ~(spotify_youtube_clean['track'] + '|' + spotify_youtube_clean['artist']).isin(duplicates)\n",
    "]\n",
    "\n",
    "# Identify common and unique columns\n",
    "common_columns = list(set(spotify_youtube_clean.columns) & set(spotify_2024_clean.columns))\n",
    "unique_to_youtube = list(set(spotify_youtube_clean.columns) - set(spotify_2024_clean.columns))\n",
    "unique_to_2024 = list(set(spotify_2024_clean.columns) - set(spotify_youtube_clean.columns))\n",
    "\n",
    "# Create empty columns in each dataset for the unique columns from the other dataset\n",
    "for col in unique_to_youtube:\n",
    "    spotify_2024_clean[col] = np.nan\n",
    "for col in unique_to_2024:\n",
    "    spotify_youtube_clean[col] = np.nan\n",
    "\n",
    "# Combine the datasets\n",
    "combined_df = pd.concat([spotify_youtube_clean, spotify_2024_clean], ignore_index=True)\n",
    "\n",
    "print(\"\\nCombined Dataset Info:\")\n",
    "print(combined_df.info())\n",
    "print(\"\\nSample of combined dataset:\")\n",
    "print(combined_df.head())"
   ]
  },
  {
   "cell_type": "markdown",
   "metadata": {},
   "source": [
    "## Save Preprocessed Dataset"
   ]
  },
  {
   "cell_type": "code",
   "execution_count": 8,
   "metadata": {
    "execution": {
     "iopub.execute_input": "2025-01-04T01:58:19.532866Z",
     "iopub.status.busy": "2025-01-04T01:58:19.532291Z",
     "iopub.status.idle": "2025-01-04T01:58:19.923983Z",
     "shell.execute_reply": "2025-01-04T01:58:19.921905Z"
    }
   },
   "outputs": [
    {
     "name": "stdout",
     "output_type": "stream",
     "text": [
      "\n",
      "Data preprocessing completed successfully!\n",
      "Combined dataset shape: (24012, 22)\n"
     ]
    }
   ],
   "source": [
    "# Save the combined dataset\n",
    "combined_df.to_csv('data/preprocessed/combined_dataset.csv', index=False)\n",
    "print(\"\\nData preprocessing completed successfully!\")\n",
    "print(f\"Combined dataset shape: {combined_df.shape}\")"
   ]
  }
 ],
 "metadata": {
  "kernelspec": {
   "display_name": "Python 3",
   "language": "python",
   "name": "python3"
  },
  "language_info": {
   "codemirror_mode": {
    "name": "ipython",
    "version": 3
   },
   "file_extension": ".py",
   "mimetype": "text/x-python",
   "name": "python",
   "nbconvert_exporter": "python",
   "pygments_lexer": "ipython3",
   "version": "3.10.12"
  }
 },
 "nbformat": 4,
 "nbformat_minor": 4
}
