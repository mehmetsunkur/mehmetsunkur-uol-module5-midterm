{
 "cells": [
  {
   "cell_type": "markdown",
   "metadata": {},
   "source": [
    "# Task 3: Dataset Analysis and Linear Regression\n",
    "\n",
    "This notebook analyzes Spotify streaming data to identify key factors influencing streaming success and develop a predictive model for streaming performance.\n",
    "\n",
    "## Key Findings:\n",
    "1. The model explains 79.10% of the variance in streaming numbers (R² = 0.7910)\n",
    "2. Most influential factors:\n",
    "   - Spotify Playlist Count (strongest positive impact)\n",
    "   - Social media engagement (TikTok views and likes)\n",
    "   - Cross-platform presence (Apple Music, YouTube)\n",
    "3. The model's RMSE of 240.6M streams indicates the average prediction error magnitude"
   ]
  },
  {
   "cell_type": "code",
   "execution_count": null,
   "metadata": {},
   "outputs": [],
   "source": [
    "# Import necessary libraries\n",
    "import pandas as pd\n",
    "import numpy as np\n",
    "import matplotlib.pyplot as plt\n",
    "import seaborn as sns\n",
    "from sklearn.model_selection import train_test_split\n",
    "from sklearn.linear_model import LinearRegression\n",
    "from sklearn.preprocessing import StandardScaler\n",
    "from sklearn.metrics import r2_score, mean_squared_error\n",
    "\n",
    "# Set display options\n",
    "pd.set_option('display.max_columns', None)\n",
    "pd.set_option('display.max_rows', 100)\n",
    "\n",
    "# Set random seed for reproducibility\n",
    "np.random.seed(42)"
   ]
  },
  {
   "cell_type": "markdown",
   "metadata": {},
   "source": [
    "## Data Loading and Initial Exploration\n",
    "\n",
    "We analyze two datasets:\n",
    "1. Most Streamed Spotify Songs 2024 (4,600 songs)\n",
    "2. Spotify_Youtube dataset (20,718 songs)"
   ]
  },
  {
   "cell_type": "code",
   "execution_count": null,
   "metadata": {},
   "outputs": [],
   "source": [
    "# Load the datasets with latin-1 encoding\n",
    "spotify_2024 = pd.read_csv('./data/raw/Most Streamed Spotify Songs 2024.csv', encoding='latin-1')\n",
    "spotify_youtube = pd.read_csv('./data/raw/Spotify_Youtube.csv', encoding='latin-1')\n",
    "\n",
    "print(\"Shape of Most Streamed Spotify Songs 2024:\", spotify_2024.shape)\n",
    "print(\"Shape of Spotify_Youtube:\", spotify_youtube.shape)\n",
    "\n",
    "# Display basic statistics for key columns\n",
    "print(\"\\nBasic statistics for key metrics:\")\n",
    "key_metrics = ['Track Score', 'Spotify Popularity', 'Apple Music Playlist Count',\n",
    "               'Deezer Playlist Count', 'Amazon Playlist Count']\n",
    "print(spotify_2024[key_metrics].describe())"
   ]
  },
  {
   "cell_type": "markdown",
   "metadata": {},
   "source": [
    "## Data Cleaning and Preprocessing\n",
    "\n",
    "Key steps:\n",
    "1. Convert string numbers (e.g., '1.5M', '500K') to numeric values\n",
    "2. Handle missing values\n",
    "3. Prepare features for modeling"
   ]
  },
  {
   "cell_type": "code",
   "execution_count": null,
   "metadata": {},
   "outputs": [],
   "source": [
    "# Function to convert string numbers to numeric values\n",
    "def convert_to_numeric(value):\n",
    "    if pd.isna(value) or value == '':\n",
    "        return np.nan\n",
    "    try:\n",
    "        value = str(value).replace(',', '')\n",
    "        if value[-1].upper() == 'K':\n",
    "            return float(value[:-1]) * 1000\n",
    "        elif value[-1].upper() == 'M':\n",
    "            return float(value[:-1]) * 1000000\n",
    "        elif value[-1].upper() == 'B':\n",
    "            return float(value[:-1]) * 1000000000\n",
    "        return float(value)\n",
    "    except:\n",
    "        return np.nan\n",
    "\n",
    "# Columns to convert\n",
    "numeric_columns = ['Spotify Streams', 'Spotify Playlist Count', 'Spotify Playlist Reach',\n",
    "                   'YouTube Views', 'YouTube Likes', 'TikTok Posts', 'TikTok Likes',\n",
    "                   'TikTok Views', 'YouTube Playlist Reach', 'AirPlay Spins',\n",
    "                   'SiriusXM Spins', 'Deezer Playlist Reach', 'Pandora Streams',\n",
    "                   'Pandora Track Stations', 'Soundcloud Streams', 'Shazam Counts']\n",
    "\n",
    "# Convert string numbers to numeric values\n",
    "for col in numeric_columns:\n",
    "    spotify_2024[col] = spotify_2024[col].apply(convert_to_numeric)\n",
    "\n",
    "# Display the cleaned numeric columns info\n",
    "print(\"\\nCleaned numeric columns info:\")\n",
    "spotify_2024[numeric_columns].info()\n",
    "\n",
    "# Display correlation with Spotify Streams\n",
    "correlations = spotify_2024[numeric_columns].corr()['Spotify Streams'].sort_values(ascending=False)\n",
    "print(\"\\nCorrelations with Spotify Streams:\")\n",
    "print(correlations)"
   ]
  },
  {
   "cell_type": "markdown",
   "metadata": {},
   "source": [
    "## Feature Selection and Model Development\n",
    "\n",
    "Selected features based on:\n",
    "1. Correlation with streaming numbers\n",
    "2. Data availability (completeness)\n",
    "3. Business relevance"
   ]
  },
  {
   "cell_type": "code",
   "execution_count": null,
   "metadata": {},
   "outputs": [],
   "source": [
    "# Select features for predicting streaming revenue\n",
    "features = ['Spotify Playlist Count', 'Spotify Popularity', 'YouTube Views', 'YouTube Likes',\n",
    "            'TikTok Posts', 'TikTok Likes', 'TikTok Views', 'Apple Music Playlist Count',\n",
    "            'Deezer Playlist Count', 'Amazon Playlist Count']\n",
    "\n",
    "target = 'Spotify Streams'\n",
    "\n",
    "# Remove rows with missing values\n",
    "model_data = spotify_2024[features + [target]].dropna()\n",
    "print(\"\\nShape of cleaned data for modeling:\", model_data.shape)\n",
    "\n",
    "# Split and scale the data\n",
    "X = model_data[features]\n",
    "y = model_data[target]\n",
    "\n",
    "scaler = StandardScaler()\n",
    "X_scaled = scaler.fit_transform(X)\n",
    "\n",
    "X_train, X_test, y_train, y_test = train_test_split(X_scaled, y, test_size=0.2, random_state=42)"
   ]
  },
  {
   "cell_type": "markdown",
   "metadata": {},
   "source": [
    "## Linear Regression Analysis\n",
    "\n",
    "The model aims to predict streaming numbers based on various performance metrics across platforms."
   ]
  },
  {
   "cell_type": "code",
   "execution_count": null,
   "metadata": {},
   "outputs": [],
   "source": [
    "# Create and train the model\n",
    "model = LinearRegression()\n",
    "model.fit(X_train, y_train)\n",
    "\n",
    "# Make predictions\n",
    "y_pred = model.predict(X_test)\n",
    "\n",
    "# Calculate performance metrics\n",
    "r2 = r2_score(y_test, y_pred)\n",
    "rmse = np.sqrt(mean_squared_error(y_test, y_pred))\n",
    "\n",
    "print(\"\\nModel Performance:\")\n",
    "print(f\"R-squared Score: {r2:.4f}\")\n",
    "print(f\"Root Mean Square Error: {rmse:,.0f}\")\n",
    "\n",
    "# Feature importance analysis\n",
    "feature_importance = pd.DataFrame({\n",
    "    'Feature': features,\n",
    "    'Importance': model.coef_\n",
    "})\n",
    "feature_importance = feature_importance.sort_values('Importance', key=abs, ascending=False)\n",
    "\n",
    "print(\"\\nFeature Importance:\")\n",
    "print(feature_importance)"
   ]
  },
  {
   "cell_type": "markdown",
   "metadata": {},
   "source": [
    "## Results Visualization and Interpretation"
   ]
  },
  {
   "cell_type": "code",
   "execution_count": null,
   "metadata": {},
   "outputs": [],
   "source": [
    "# Plot actual vs predicted values\n",
    "plt.figure(figsize=(10, 6))\n",
    "plt.scatter(y_test, y_pred, alpha=0.5)\n",
    "plt.plot([y_test.min(), y_test.max()], [y_test.min(), y_test.max()], 'r--', lw=2)\n",
    "plt.xlabel('Actual Streams')\n",
    "plt.ylabel('Predicted Streams')\n",
    "plt.title('Actual vs Predicted Spotify Streams')\n",
    "plt.tight_layout()\n",
    "plt.show()\n",
    "\n",
    "# Plot feature importance\n",
    "plt.figure(figsize=(12, 6))\n",
    "sns.barplot(data=feature_importance, x='Importance', y='Feature')\n",
    "plt.title('Feature Importance in Predicting Spotify Streams')\n",
    "plt.tight_layout()\n",
    "plt.show()"
   ]
  },
  {
   "cell_type": "markdown",
   "metadata": {},
   "source": [
    "## Key Insights and Recommendations\n",
    "\n",
    "1. **Playlist Presence**: Spotify Playlist Count is the strongest predictor of streaming success, suggesting the importance of playlist marketing strategies.\n",
    "\n",
    "2. **Social Media Impact**: TikTok engagement (views and likes) shows significant influence, highlighting the platform's role in music promotion.\n",
    "\n",
    "3. **Cross-Platform Strategy**: Presence across multiple platforms (Apple Music, YouTube, Deezer) contributes to streaming success.\n",
    "\n",
    "4. **Model Performance**: The model explains 79.10% of the variance in streaming numbers, making it a reliable tool for predicting streaming potential.\n",
    "\n",
    "5. **Prediction Accuracy**: The RMSE of 240.6M streams provides a measure of prediction uncertainty, useful for setting realistic streaming targets."
   ]
  }
 ],
 "metadata": {
  "kernelspec": {
   "display_name": "Python 3",
   "language": "python",
   "name": "python3"
  },
  "language_info": {
   "codemirror_mode": {
    "name": "ipython",
    "version": 3
   },
   "file_extension": ".py",
   "mimetype": "text/x-python",
   "name": "python",
   "nbconvert_exporter": "python",
   "pygments_lexer": "ipython3",
   "version": "3.8.0"
  }
 },
 "nbformat": 4,
 "nbformat_minor": 4
}
